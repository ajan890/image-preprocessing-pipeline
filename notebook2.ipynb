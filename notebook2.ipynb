{
 "cells": [
  {
   "cell_type": "code",
   "execution_count": null,
   "id": "initial_id",
   "metadata": {
    "collapsed": true
   },
   "outputs": [],
   "source": [
    "# Testing deconvolutions for temp test folder (containing 1 image)\n",
    "\n",
    "from nrrd import read, write\n",
    "from tifffile import imwrite\n",
    "import shutil, os\n",
    "import time\n",
    "\n",
    "# delete old directory\n",
    "try:\n",
    "    shutil.rmtree(r\"E:\\TMP\\Aidan\\out\\temp\")\n",
    "    os.remove(r\"E:\\TMP\\Aidan\\out\\y00006400.x00019200.nrrd\")\n",
    "except FileNotFoundError:\n",
    "    print(\"File not found\")\n",
    "    \n",
    "print(\"Old directory deleted\")\n",
    "time.sleep(2)\n",
    "\n",
    "# run fnt_cube_processor.py\n",
    "! python .\\fnt_cube_processor.py -i E:\\TMP\\Aidan\\tmp -o E:\\TMP\\Aidan\\out -n 1 -d  \n",
    "# time.sleep(2)\n",
    "img, header = read(r\"E:\\TMP\\Aidan\\out\\y00006400.x00019200.nrrd\")\n",
    "imwrite(r\"E:\\TMP\\Aidan\\out\\test_decon.tif\", img, compression=1)"
   ]
  },
  {
   "cell_type": "code",
   "execution_count": 1,
   "outputs": [],
   "source": [
    "def convert_file(input_nrrd):\n",
    "    img, header = read(input_nrrd.__str__())\n",
    "    tif_path = Path(output_tif_folder) / (input_nrrd.name[:-4] + 'tif')\n",
    "    imwrite(tif_path.__str__(), img, compression=1)\n",
    "    return 1"
   ],
   "metadata": {
    "collapsed": false,
    "ExecuteTime": {
     "end_time": "2024-09-17T10:11:39.055410800Z",
     "start_time": "2024-09-17T10:11:39.052531300Z"
    }
   },
   "id": "2542c135b9871e57"
  },
  {
   "cell_type": "code",
   "execution_count": 1,
   "outputs": [
    {
     "name": "stdout",
     "output_type": "stream",
     "text": [
      "All nrrd -> tif conversions completed successfully\n"
     ]
    }
   ],
   "source": [
    "# Testing deconvolutions for real folder (this one takes a long time)\n",
    "from nrrd import read\n",
    "from tifffile import imwrite\n",
    "from pathlib import Path\n",
    "from os import system \n",
    "from multiprocessing import Pool\n",
    "\n",
    "\n",
    "# running fnt_cube_processor with 8 threads\n",
    "input_folder = r\"E:\\TMP\\Aidan\\z00003200\"\n",
    "output_nrrd_folder = r\"E:\\TMP\\Aidan\\z00003200_deconv_nrrd\"\n",
    "output_tif_folder = r\"E:\\TMP\\Aidan\\z00003200_tif\"\n",
    "num_threads = 8\n",
    "\n",
    "system(fr\"python .\\fnt_cube_processor.py -i {input_folder} -o {output_nrrd_folder} -n {num_threads} -d\")\n",
    "\n",
    "# convert to tif files\n",
    "nrrd_paths = [f for f in Path(output_nrrd_folder).iterdir() if f.is_file()]\n",
    "\n",
    "# convert single file to tif\n",
    "def convert_file(input_nrrd: Path):\n",
    "    img, header = read(input_nrrd.__str__())\n",
    "    tif_path = Path(output_tif_folder) / (input_nrrd.name[:-4] + 'tif')\n",
    "    imwrite(tif_path.__str__(), img, compression=1)\n",
    "    return 1\n",
    "\n",
    "for path in nrrd_paths:\n",
    "    convert_file(path)\n",
    "\n",
    "print(\"All nrrd -> tif conversions completed successfully\")\n"
   ],
   "metadata": {
    "collapsed": false,
    "ExecuteTime": {
     "end_time": "2024-09-17T11:02:24.065094400Z",
     "start_time": "2024-09-17T10:12:19.694579600Z"
    }
   },
   "id": "2b300b5d7e7718f8"
  },
  {
   "cell_type": "code",
   "execution_count": 46,
   "outputs": [],
   "source": [],
   "metadata": {
    "collapsed": false,
    "ExecuteTime": {
     "end_time": "2024-09-11T23:04:13.278299800Z",
     "start_time": "2024-09-11T23:04:13.257290Z"
    }
   },
   "id": "d11228ec6edce88a"
  },
  {
   "cell_type": "code",
   "execution_count": null,
   "outputs": [],
   "source": [],
   "metadata": {
    "collapsed": false
   },
   "id": "ebbb128848d2965e"
  }
 ],
 "metadata": {
  "kernelspec": {
   "display_name": "Python 3",
   "language": "python",
   "name": "python3"
  },
  "language_info": {
   "codemirror_mode": {
    "name": "ipython",
    "version": 2
   },
   "file_extension": ".py",
   "mimetype": "text/x-python",
   "name": "python",
   "nbconvert_exporter": "python",
   "pygments_lexer": "ipython2",
   "version": "2.7.6"
  }
 },
 "nbformat": 4,
 "nbformat_minor": 5
}
