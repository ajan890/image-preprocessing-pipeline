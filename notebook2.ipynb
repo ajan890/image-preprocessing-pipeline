{
 "cells": [
  {
   "cell_type": "code",
   "id": "initial_id",
   "metadata": {
    "collapsed": true,
    "ExecuteTime": {
     "end_time": "2024-09-21T06:12:38.095562Z",
     "start_time": "2024-09-21T06:12:25.472678Z"
    }
   },
   "source": [
    "# Testing deconvolutions for temp test folder (containing 1 image)\n",
    "\n",
    "from nrrd import read, write\n",
    "from tifffile import imwrite\n",
    "import shutil, os\n",
    "import time\n",
    "\n",
    "# delete old directory\n",
    "try:\n",
    "    shutil.rmtree(r\"E:\\TMP\\Keivan\\de\\temp\")\n",
    "    os.remove(r\"E:\\TMP\\Keivan\\de\\y00010920.x00005472.nrrd\")\n",
    "except FileNotFoundError:\n",
    "    print(\"File not found\")\n",
    "    \n",
    "print(\"Old directory deleted\")\n",
    "time.sleep(2)\n",
    "\n",
    "# run fnt_cube_processor.py --no-destripe --wavelength_ex 642 --wavelength_em 690 \n",
    "! python .\\fnt_cube_processor.py -i E:\\TMP\\Keivan\\or -o E:\\TMP\\Keivan\\de -n 1 -d --no-destripe --nimm 1.42 --dxy 0.7 --dz 1.2\n",
    "# time.sleep(2)\n",
    "# img, header = read(r\"E:\\TMP\\Keivan\\de\\y00010920.x00005472.nrrd\")\n",
    "# imwrite(r\"E:\\TMP\\Keivan\\de\\test_gd_de_1.42_600.tif\", img, compression=1)\n",
    "\n",
    "# img, header = read(r\"E:\\TMP\\Keivan\\or\\y00010920.x00005472.nrrd\")\n",
    "# imwrite(r\"E:\\TMP\\Keivan\\de\\test_or.tif\", img, compression=1)"
   ],
   "outputs": [
    {
     "name": "stdout",
     "output_type": "stream",
     "text": [
      "File not found\n",
      "Old directory deleted\n",
      "args.threads_per_gpu: 26, cuda_device_count: 2, args.exclude_gpus: []\n",
      "Two objects are distinguishable in xy-plane if they are 801 nm apart. The camera pixel size is 700 nm.\n",
      "Two objects are distinguishable in z-axis if they are 8662 nm apart. The z-step is 1200 nm.\n",
      "full width half maxima of xy-plane is 958.9 nm.\n",
      "full width half maxima of z-axis is 9202.4 nm.\n",
      "dxy_psf: 266.875\n",
      "Deconvolution args:\n",
      "{'otf': 'E:\\\\TMP\\\\Keivan\\\\de\\\\temp\\\\otf.tif', 'n_iters': 10, 'dz_data': 1.2, 'dx_data': 0.7, 'dz_psf': 1.2, 'dxy_psf': 0.266875, 'background': 0, 'wavelength_em': 525, 'na': 0.4, 'nimm': 1.42}\n"
     ]
    },
    {
     "name": "stderr",
     "output_type": "stream",
     "text": [
      "C:\\Users\\kmoradi\\anaconda3\\envs\\stitching\\Lib\\site-packages\\pycudadecon\\_libwrap.py:44: UserWarning: Unable to find function: camcor_interface_init in libcudaDecon\n",
      "  @lib.function\n",
      "C:\\Users\\kmoradi\\anaconda3\\envs\\stitching\\Lib\\site-packages\\pycudadecon\\_libwrap.py:51: UserWarning: Unable to find function: camcor_interface in libcudaDecon\n",
      "  @lib.function\n",
      "\n",
      "FNT Cube Processor:   0%|          | 0/1 [00:00<?, ? cubes/s]\n",
      "FNT Cube Processor: 100%|##########| 1/1 [00:02<00:00,  2.50s/ cubes]\n",
      "FNT Cube Processor: 100%|##########| 1/1 [00:02<00:00,  2.50s/ cubes]\n"
     ]
    }
   ],
   "execution_count": 2
  },
  {
   "cell_type": "code",
   "source": [
    "def convert_file(input_nrrd):\n",
    "    img, header = read(input_nrrd.__str__())\n",
    "    tif_path = Path(output_tif_folder) / (input_nrrd.name[:-4] + 'tif')\n",
    "    imwrite(tif_path.__str__(), img, compression=1)\n",
    "    return 1"
   ],
   "metadata": {
    "collapsed": false,
    "ExecuteTime": {
     "end_time": "2024-09-21T06:12:02.669396Z",
     "start_time": "2024-09-21T06:12:02.652346Z"
    }
   },
   "id": "2542c135b9871e57",
   "outputs": [],
   "execution_count": 1
  },
  {
   "cell_type": "code",
   "execution_count": 1,
   "outputs": [
    {
     "name": "stdout",
     "output_type": "stream",
     "text": [
      "All nrrd -> tif conversions completed successfully\n"
     ]
    }
   ],
   "source": [
    "# Testing deconvolutions for real folder (this one takes a long time)\n",
    "from nrrd import read\n",
    "from tifffile import imwrite\n",
    "from pathlib import Path\n",
    "from os import system \n",
    "from multiprocessing import Pool\n",
    "\n",
    "\n",
    "# running fnt_cube_processor with 8 threads\n",
    "input_folder = r\"E:\\TMP\\Aidan\\z00003200\"\n",
    "output_nrrd_folder = r\"E:\\TMP\\Aidan\\z00003200_deconv_nrrd\"\n",
    "output_tif_folder = r\"E:\\TMP\\Aidan\\z00003200_tif\"\n",
    "num_threads = 8\n",
    "\n",
    "system(fr\"python .\\fnt_cube_processor.py -i {input_folder} -o {output_nrrd_folder} -n {num_threads} -d\")\n",
    "\n",
    "# convert to tif files\n",
    "nrrd_paths = [f for f in Path(output_nrrd_folder).iterdir() if f.is_file()]\n",
    "\n",
    "# convert single file to tif\n",
    "def convert_file(input_nrrd: Path):\n",
    "    img, header = read(input_nrrd.__str__())\n",
    "    tif_path = Path(output_tif_folder) / (input_nrrd.name[:-4] + 'tif')\n",
    "    imwrite(tif_path.__str__(), img, compression=1)\n",
    "    return 1\n",
    "\n",
    "for path in nrrd_paths:\n",
    "    convert_file(path)\n",
    "\n",
    "print(\"All nrrd -> tif conversions completed successfully\")\n"
   ],
   "metadata": {
    "collapsed": false,
    "ExecuteTime": {
     "end_time": "2024-09-17T11:02:24.065094400Z",
     "start_time": "2024-09-17T10:12:19.694579600Z"
    }
   },
   "id": "2b300b5d7e7718f8"
  },
  {
   "cell_type": "code",
   "execution_count": 46,
   "outputs": [],
   "source": [],
   "metadata": {
    "collapsed": false,
    "ExecuteTime": {
     "end_time": "2024-09-11T23:04:13.278299800Z",
     "start_time": "2024-09-11T23:04:13.257290Z"
    }
   },
   "id": "d11228ec6edce88a"
  },
  {
   "cell_type": "code",
   "execution_count": null,
   "outputs": [],
   "source": [],
   "metadata": {
    "collapsed": false
   },
   "id": "ebbb128848d2965e"
  }
 ],
 "metadata": {
  "kernelspec": {
   "display_name": "Python 3",
   "language": "python",
   "name": "python3"
  },
  "language_info": {
   "codemirror_mode": {
    "name": "ipython",
    "version": 2
   },
   "file_extension": ".py",
   "mimetype": "text/x-python",
   "name": "python",
   "nbconvert_exporter": "python",
   "pygments_lexer": "ipython2",
   "version": "2.7.6"
  }
 },
 "nbformat": 4,
 "nbformat_minor": 5
}
