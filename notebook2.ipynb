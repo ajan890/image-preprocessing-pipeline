{
 "cells": [
  {
   "cell_type": "code",
   "id": "initial_id",
   "metadata": {
    "collapsed": true
   },
   "source": [
    "# Testing deconvolutions for temp test folder (containing 1 image)\n",
    "\n",
    "from nrrd import read, write\n",
    "from tifffile import imwrite\n",
    "import shutil, os\n",
    "import time\n",
    "\n",
    "# delete old directory\n",
    "try:\n",
    "    shutil.rmtree(r\"E:\\TMP\\Keivan\\de\\temp\")\n",
    "    os.remove(r\"E:\\TMP\\Keivan\\de\\y00010920.x00005472.nrrd\")\n",
    "except FileNotFoundError:\n",
    "    print(\"File not found\")\n",
    "    \n",
    "print(\"Old directory deleted\")\n",
    "time.sleep(2)\n",
    "\n",
    "# run fnt_cube_processor.py --no-destripe --wavelength_ex 642 --wavelength_em 690    <- TODO: program crashes\n",
    "! python .\\fnt_cube_processor.py -i E:\\TMP\\Keivan\\or -o E:\\TMP\\Keivan\\de -n 1 -d --no-destripe --nimm 1.42 --dxy 0.7 --dz 1.2\n",
    "# time.sleep(2)\n",
    "# img, header = read(r\"E:\\TMP\\Keivan\\de\\y00010920.x00005472.nrrd\")\n",
    "# imwrite(r\"E:\\TMP\\Keivan\\de\\test_gd_de_1.42_600.tif\", img, compression=1)\n",
    "\n",
    "# img, header = read(r\"E:\\TMP\\Keivan\\or\\y00010920.x00005472.nrrd\")\n",
    "# imwrite(r\"E:\\TMP\\Keivan\\de\\test_or.tif\", img, compression=1)"
   ],
   "outputs": [
    {
     "name": "stdout",
     "output_type": "stream",
     "text": [
      "Two objects are distinguishable in xy-plane if they are 801 nm apart. The camera pixel size is 700 nm.\n",
      "Two objects are distinguishable in z-axis if they are 8662 nm apart. The z-step is 1200 nm.\n",
      "full width half maxima of xy-plane is 958.9 nm.\n",
      "full width half maxima of z-axis is 9202.4 nm.\n",
      "otf shape:  (0, 9, 18)\n",
      "callednx=17, ny=9, nz=9\n",
      "Center of mass is (8.000, 4.000, 4.600)\n",
      "Background is -0.000\n",
      "In radialft()\n"
     ]
    },
    {
     "name": "stderr",
     "output_type": "stream",
     "text": [
      "C:\\Users\\ajan\\AppData\\Local\\anaconda3\\envs\\stitching\\Lib\\site-packages\\pycudadecon\\_libwrap.py:44: UserWarning: Unable to find function: camcor_interface_init in libcudaDecon\n",
      "  @lib.function\n",
      "C:\\Users\\ajan\\AppData\\Local\\anaconda3\\envs\\stitching\\Lib\\site-packages\\pycudadecon\\_libwrap.py:51: UserWarning: Unable to find function: camcor_interface in libcudaDecon\n",
      "  @lib.function\n",
      "\n",
      "FNT Cube Processor: 0 cubes [00:00, ? cubes/s]\n",
      "FNT Cube Processor: 0 cubes [00:00, ? cubes/s]\n"
     ]
    }
   ],
   "execution_count": 3
  },
  {
   "cell_type": "code",
   "execution_count": 16,
   "outputs": [
    {
     "name": "stdout",
     "output_type": "stream",
     "text": [
      "Old directory deleted\n",
      "Two objects are distinguishable in xy-plane if they are 801 nm apart. The camera pixel size is 700 nm.\n",
      "Two objects are distinguishable in z-axis if they are 8662 nm apart. The z-step is 1400 nm.\n",
      "full width half maxima of xy-plane is 958.9 nm.\n",
      "full width half maxima of z-axis is 9202.4 nm.\n",
      "otf shape:  (0, 8, 18)\n",
      "called get_next_good_dim\n",
      "called get_next_good_dim\n",
      "called get_next_good_dim\n"
     ]
    },
    {
     "name": "stderr",
     "output_type": "stream",
     "text": [
      "C:\\Users\\ajan\\AppData\\Local\\anaconda3\\envs\\stitching\\Lib\\site-packages\\pycudadecon\\_libwrap.py:44: UserWarning: Unable to find function: camcor_interface_init in libcudaDecon\n",
      "  @lib.function\n",
      "C:\\Users\\ajan\\AppData\\Local\\anaconda3\\envs\\stitching\\Lib\\site-packages\\pycudadecon\\_libwrap.py:51: UserWarning: Unable to find function: camcor_interface in libcudaDecon\n",
      "  @lib.function\n",
      "\n",
      "FNT Cube Processor:   0%|          | 0/1 [00:00<?, ? cubes/s]\n",
      "FNT Cube Processor: 100%|##########| 1/1 [00:07<00:00,  7.67s/ cubes]\n",
      "FNT Cube Processor: 100%|##########| 1/1 [00:07<00:00,  7.67s/ cubes]\n"
     ]
    }
   ],
   "source": [
    "# Testing deconvolutions for temp test folder (containing 1 image)\n",
    "\n",
    "from nrrd import read, write\n",
    "from tifffile import imwrite\n",
    "import shutil, os\n",
    "import time\n",
    "\n",
    "# delete old directory\n",
    "try:\n",
    "    shutil.rmtree(r\"E:\\TMP\\Aidan\\out_test_single\\temp\")\n",
    "    os.remove(r\"E:\\TMP\\Aidan\\out_test_single\\y00006400.x00019200.nrrd\")\n",
    "except FileNotFoundError:\n",
    "    print(\"File not found\")\n",
    "    \n",
    "print(\"Old directory deleted\")\n",
    "time.sleep(0.5)\n",
    "\n",
    "# run fnt_cube_processor.py\n",
    "! python .\\fnt_cube_processor.py -i E:\\TMP\\Aidan\\tmp -o E:\\TMP\\Aidan\\out_test_single -n 1 -d  \n",
    "# time.sleep(2)\n",
    "img, header = read(r\"E:\\TMP\\Aidan\\out_test_single\\y00006400.x00019200.nrrd\")\n",
    "imwrite(r\"E:\\TMP\\Aidan\\out_test_single\\test_decon.tif\", img, compression=1)"
   ],
   "metadata": {
    "collapsed": false,
    "ExecuteTime": {
     "end_time": "2024-10-22T03:04:27.466432700Z",
     "start_time": "2024-10-22T03:04:13.667513600Z"
    }
   },
   "id": "c32ddeb918f2b3de"
  },
  {
   "cell_type": "code",
   "execution_count": 13,
   "outputs": [
    {
     "name": "stdout",
     "output_type": "stream",
     "text": [
      "called get_next_good_dim\n"
     ]
    },
    {
     "data": {
      "text/plain": "160"
     },
     "execution_count": 13,
     "metadata": {},
     "output_type": "execute_result"
    }
   ],
   "source": [
    "def get_next_good_dim(n: int):\n",
    "    print(\"called get_next_good_dim\")\n",
    "    while True:\n",
    "        temp = n\n",
    "        for prime in [2, 3, 5, 7]:\n",
    "            while temp % prime == 0:\n",
    "                temp //= prime\n",
    "        if temp != 1:\n",
    "            n += 1\n",
    "        else:\n",
    "            break\n",
    "    return n\n",
    "\n",
    "get_next_good_dim(160)"
   ],
   "metadata": {
    "collapsed": false,
    "ExecuteTime": {
     "end_time": "2024-10-22T02:51:15.753369100Z",
     "start_time": "2024-10-22T02:51:15.737677700Z"
    }
   },
   "id": "64b57d7f59a95d98"
  },
  {
   "cell_type": "code",
   "execution_count": null,
   "outputs": [],
   "source": [
    "def convert_file(input_nrrd):\n",
    "    img, header = read(input_nrrd.__str__())\n",
    "    tif_path = Path(output_tif_folder) / (input_nrrd.name[:-4] + 'tif')\n",
    "    imwrite(tif_path.__str__(), img, compression=1)\n",
    "    return 1"
   ],
   "metadata": {
    "collapsed": false,
    "ExecuteTime": {
     "start_time": "2024-10-09T09:29:36.457317900Z"
    }
   },
   "id": "2542c135b9871e57"
  },
  {
   "cell_type": "code",
   "execution_count": 10,
   "outputs": [
    {
     "ename": "KeyboardInterrupt",
     "evalue": "",
     "output_type": "error",
     "traceback": [
      "\u001B[1;31m---------------------------------------------------------------------------\u001B[0m",
      "\u001B[1;31mKeyboardInterrupt\u001B[0m                         Traceback (most recent call last)",
      "Cell \u001B[1;32mIn[10], line 28\u001B[0m\n\u001B[0;32m     25\u001B[0m     \u001B[38;5;28;01mreturn\u001B[39;00m \u001B[38;5;241m1\u001B[39m\n\u001B[0;32m     27\u001B[0m \u001B[38;5;28;01mfor\u001B[39;00m path \u001B[38;5;129;01min\u001B[39;00m nrrd_paths:\n\u001B[1;32m---> 28\u001B[0m     \u001B[43mconvert_file\u001B[49m\u001B[43m(\u001B[49m\u001B[43mpath\u001B[49m\u001B[43m)\u001B[49m\n\u001B[0;32m     30\u001B[0m \u001B[38;5;28mprint\u001B[39m(\u001B[38;5;124m\"\u001B[39m\u001B[38;5;124mAll nrrd -> tif conversions completed successfully\u001B[39m\u001B[38;5;124m\"\u001B[39m)\n",
      "Cell \u001B[1;32mIn[10], line 22\u001B[0m, in \u001B[0;36mconvert_file\u001B[1;34m(input_nrrd)\u001B[0m\n\u001B[0;32m     21\u001B[0m \u001B[38;5;28;01mdef\u001B[39;00m \u001B[38;5;21mconvert_file\u001B[39m(input_nrrd: Path):\n\u001B[1;32m---> 22\u001B[0m     img, header \u001B[38;5;241m=\u001B[39m \u001B[43mread\u001B[49m\u001B[43m(\u001B[49m\u001B[43minput_nrrd\u001B[49m\u001B[38;5;241;43m.\u001B[39;49m\u001B[38;5;21;43m__str__\u001B[39;49m\u001B[43m(\u001B[49m\u001B[43m)\u001B[49m\u001B[43m)\u001B[49m\n\u001B[0;32m     23\u001B[0m     tif_path \u001B[38;5;241m=\u001B[39m Path(output_tif_folder) \u001B[38;5;241m/\u001B[39m (input_nrrd\u001B[38;5;241m.\u001B[39mname[:\u001B[38;5;241m-\u001B[39m\u001B[38;5;241m4\u001B[39m] \u001B[38;5;241m+\u001B[39m \u001B[38;5;124m'\u001B[39m\u001B[38;5;124mtif\u001B[39m\u001B[38;5;124m'\u001B[39m)\n\u001B[0;32m     24\u001B[0m     imwrite(tif_path\u001B[38;5;241m.\u001B[39m\u001B[38;5;21m__str__\u001B[39m(), img, compression\u001B[38;5;241m=\u001B[39m\u001B[38;5;241m1\u001B[39m)\n",
      "File \u001B[1;32m~\\AppData\\Local\\anaconda3\\envs\\stitching\\Lib\\site-packages\\nrrd\\reader.py:508\u001B[0m, in \u001B[0;36mread\u001B[1;34m(filename, custom_field_map, index_order)\u001B[0m\n\u001B[0;32m    506\u001B[0m \u001B[38;5;28;01mwith\u001B[39;00m \u001B[38;5;28mopen\u001B[39m(filename, \u001B[38;5;124m'\u001B[39m\u001B[38;5;124mrb\u001B[39m\u001B[38;5;124m'\u001B[39m) \u001B[38;5;28;01mas\u001B[39;00m fh:\n\u001B[0;32m    507\u001B[0m     header \u001B[38;5;241m=\u001B[39m read_header(fh, custom_field_map)\n\u001B[1;32m--> 508\u001B[0m     data \u001B[38;5;241m=\u001B[39m \u001B[43mread_data\u001B[49m\u001B[43m(\u001B[49m\u001B[43mheader\u001B[49m\u001B[43m,\u001B[49m\u001B[43m \u001B[49m\u001B[43mfh\u001B[49m\u001B[43m,\u001B[49m\u001B[43m \u001B[49m\u001B[43mfilename\u001B[49m\u001B[43m,\u001B[49m\u001B[43m \u001B[49m\u001B[43mindex_order\u001B[49m\u001B[43m)\u001B[49m\n\u001B[0;32m    510\u001B[0m \u001B[38;5;28;01mreturn\u001B[39;00m data, header\n",
      "File \u001B[1;32m~\\AppData\\Local\\anaconda3\\envs\\stitching\\Lib\\site-packages\\nrrd\\reader.py:439\u001B[0m, in \u001B[0;36mread_data\u001B[1;34m(header, fh, filename, index_order)\u001B[0m\n\u001B[0;32m    436\u001B[0m end_index \u001B[38;5;241m=\u001B[39m \u001B[38;5;28mmin\u001B[39m(start_index \u001B[38;5;241m+\u001B[39m _READ_CHUNKSIZE, compressed_data_len)\n\u001B[0;32m    438\u001B[0m \u001B[38;5;66;03m# Decompress and append data\u001B[39;00m\n\u001B[1;32m--> 439\u001B[0m decompressed_data \u001B[38;5;241m+\u001B[39m\u001B[38;5;241m=\u001B[39m \u001B[43mdecompobj\u001B[49m\u001B[38;5;241;43m.\u001B[39;49m\u001B[43mdecompress\u001B[49m\u001B[43m(\u001B[49m\u001B[43mcompressed_data\u001B[49m\u001B[43m[\u001B[49m\u001B[43mstart_index\u001B[49m\u001B[43m:\u001B[49m\u001B[43mend_index\u001B[49m\u001B[43m]\u001B[49m\u001B[43m)\u001B[49m\n\u001B[0;32m    441\u001B[0m \u001B[38;5;66;03m# Update start index\u001B[39;00m\n\u001B[0;32m    442\u001B[0m start_index \u001B[38;5;241m=\u001B[39m end_index\n",
      "\u001B[1;31mKeyboardInterrupt\u001B[0m: "
     ]
    }
   ],
   "source": [
    "# Testing deconvolutions for real folder (this one takes a long time)\n",
    "from nrrd import read\n",
    "from tifffile import imwrite\n",
    "from pathlib import Path\n",
    "from os import system \n",
    "from multiprocessing import Pool\n",
    "\n",
    "\n",
    "# running fnt_cube_processor with 8 threads\n",
    "input_folder = r\"E:\\TMP\\Aidan\\z00003200\"\n",
    "output_nrrd_folder = r\"E:\\TMP\\Aidan\\z00003200_deconv_nrrd\"\n",
    "output_tif_folder = r\"E:\\TMP\\Aidan\\z00003200_tif\"\n",
    "num_threads = 8\n",
    "\n",
    "system(fr\"python .\\fnt_cube_processor.py -i {input_folder} -o {output_nrrd_folder} -n {num_threads} -d\")\n",
    "\n",
    "# convert to tif files\n",
    "nrrd_paths = [f for f in Path(output_nrrd_folder).iterdir() if f.is_file()]\n",
    "\n",
    "# convert single file to tif\n",
    "def convert_file(input_nrrd: Path):\n",
    "    img, header = read(input_nrrd.__str__())\n",
    "    tif_path = Path(output_tif_folder) / (input_nrrd.name[:-4] + 'tif')\n",
    "    imwrite(tif_path.__str__(), img, compression=1)\n",
    "    return 1\n",
    "\n",
    "for path in nrrd_paths:\n",
    "    convert_file(path)\n",
    "\n",
    "print(\"All nrrd -> tif conversions completed successfully\")\n"
   ],
   "metadata": {
    "collapsed": false,
    "ExecuteTime": {
     "end_time": "2024-10-22T02:33:55.404357Z",
     "start_time": "2024-10-22T02:33:43.684470800Z"
    }
   },
   "id": "2b300b5d7e7718f8"
  }
 ],
 "metadata": {
  "kernelspec": {
   "display_name": "Python 3",
   "language": "python",
   "name": "python3"
  },
  "language_info": {
   "codemirror_mode": {
    "name": "ipython",
    "version": 2
   },
   "file_extension": ".py",
   "mimetype": "text/x-python",
   "name": "python",
   "nbconvert_exporter": "python",
   "pygments_lexer": "ipython2",
   "version": "2.7.6"
  }
 },
 "nbformat": 4,
 "nbformat_minor": 5
}
