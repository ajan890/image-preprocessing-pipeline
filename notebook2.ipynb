{
 "cells": [
  {
   "cell_type": "code",
   "id": "initial_id",
   "metadata": {
    "collapsed": true
   },
   "source": [
    "# Testing deconvolutions for temp test folder (containing 1 image)\n",
    "\n",
    "from nrrd import read, write\n",
    "from tifffile import imwrite\n",
    "import shutil, os\n",
    "import time\n",
    "\n",
    "# delete old directory\n",
    "try:\n",
    "    shutil.rmtree(r\"E:\\TMP\\Keivan\\de\\temp\")\n",
    "    os.remove(r\"E:\\TMP\\Keivan\\de\\y00010920.x00005472.nrrd\")\n",
    "except FileNotFoundError:\n",
    "    print(\"File not found\")\n",
    "    \n",
    "print(\"Old directory deleted\")\n",
    "time.sleep(2)\n",
    "\n",
    "# run fnt_cube_processor.py --no-destripe --wavelength_ex 642 --wavelength_em 690    <- TODO: program crashes\n",
    "! python .\\fnt_cube_processor.py -i E:\\TMP\\Keivan\\or -o E:\\TMP\\Keivan\\de -n 1 -d --no-destripe --nimm 1.42 --dxy 0.7 --dz 1.2\n",
    "# time.sleep(2)\n",
    "# img, header = read(r\"E:\\TMP\\Keivan\\de\\y00010920.x00005472.nrrd\")\n",
    "# imwrite(r\"E:\\TMP\\Keivan\\de\\test_gd_de_1.42_600.tif\", img, compression=1)\n",
    "\n",
    "# img, header = read(r\"E:\\TMP\\Keivan\\or\\y00010920.x00005472.nrrd\")\n",
    "# imwrite(r\"E:\\TMP\\Keivan\\de\\test_or.tif\", img, compression=1)"
   ],
   "outputs": [
    {
     "name": "stdout",
     "output_type": "stream",
     "text": [
      "Two objects are distinguishable in xy-plane if they are 801 nm apart. The camera pixel size is 700 nm.\n",
      "Two objects are distinguishable in z-axis if they are 8662 nm apart. The z-step is 1200 nm.\n",
      "full width half maxima of xy-plane is 958.9 nm.\n",
      "full width half maxima of z-axis is 9202.4 nm.\n",
      "otf shape:  (0, 9, 18)\n",
      "callednx=17, ny=9, nz=9\n",
      "Center of mass is (8.000, 4.000, 4.600)\n",
      "Background is -0.000\n",
      "In radialft()\n"
     ]
    },
    {
     "name": "stderr",
     "output_type": "stream",
     "text": [
      "C:\\Users\\ajan\\AppData\\Local\\anaconda3\\envs\\stitching\\Lib\\site-packages\\pycudadecon\\_libwrap.py:44: UserWarning: Unable to find function: camcor_interface_init in libcudaDecon\n",
      "  @lib.function\n",
      "C:\\Users\\ajan\\AppData\\Local\\anaconda3\\envs\\stitching\\Lib\\site-packages\\pycudadecon\\_libwrap.py:51: UserWarning: Unable to find function: camcor_interface in libcudaDecon\n",
      "  @lib.function\n",
      "\n",
      "FNT Cube Processor: 0 cubes [00:00, ? cubes/s]\n",
      "FNT Cube Processor: 0 cubes [00:00, ? cubes/s]\n"
     ]
    }
   ],
   "execution_count": 3
  },
  {
   "cell_type": "code",
   "execution_count": 2,
   "outputs": [
    {
     "name": "stdout",
     "output_type": "stream",
     "text": [
      "Old directory deleted\n",
      "Two objects are distinguishable in xy-plane if they are 801 nm apart. The camera pixel size is 700 nm.\n",
      "Two objects are distinguishable in z-axis if they are 8662 nm apart. The z-step is 1400 nm.\n",
      "full width half maxima of xy-plane is 958.9 nm.\n",
      "full width half maxima of z-axis is 9202.4 nm.\n",
      "otf shape:  (0, 8, 18)\n"
     ]
    },
    {
     "name": "stderr",
     "output_type": "stream",
     "text": [
      "C:\\Users\\ajan\\AppData\\Local\\anaconda3\\envs\\stitching\\Lib\\site-packages\\pycudadecon\\_libwrap.py:44: UserWarning: Unable to find function: camcor_interface_init in libcudaDecon\n",
      "  @lib.function\n",
      "C:\\Users\\ajan\\AppData\\Local\\anaconda3\\envs\\stitching\\Lib\\site-packages\\pycudadecon\\_libwrap.py:51: UserWarning: Unable to find function: camcor_interface in libcudaDecon\n",
      "  @lib.function\n",
      "\n",
      "FNT Cube Processor:   0%|          | 0/1 [00:00<?, ? cubes/s]\n",
      "FNT Cube Processor: 100%|##########| 1/1 [00:07<00:00,  7.06s/ cubes]\n",
      "FNT Cube Processor: 100%|##########| 1/1 [00:07<00:00,  7.06s/ cubes]\n"
     ]
    }
   ],
   "source": [
    "# Testing deconvolutions for temp test folder (containing 1 image)\n",
    "\n",
    "from nrrd import read, write\n",
    "from tifffile import imwrite\n",
    "import shutil, os\n",
    "import time\n",
    "\n",
    "# delete old directory\n",
    "try:\n",
    "    shutil.rmtree(r\"E:\\TMP\\Aidan\\out_test_single\\temp\")\n",
    "    os.remove(r\"E:\\TMP\\Aidan\\out_test_single\\y00006400.x00019200.nrrd\")\n",
    "except FileNotFoundError:\n",
    "    print(\"File not found\")\n",
    "    \n",
    "print(\"Old directory deleted\")\n",
    "time.sleep(0.5)\n",
    "\n",
    "# run fnt_cube_processor.py\n",
    "! python .\\fnt_cube_processor.py -i E:\\TMP\\Aidan\\tmp -o E:\\TMP\\Aidan\\out_test_single -n 1 -d  \n",
    "# time.sleep(2)\n",
    "img, header = read(r\"E:\\TMP\\Aidan\\out_test_single\\y00006400.x00019200.nrrd\")\n",
    "imwrite(r\"E:\\TMP\\Aidan\\out_test_single\\test_decon.tif\", img, compression=1)"
   ],
   "metadata": {
    "collapsed": false,
    "ExecuteTime": {
     "end_time": "2024-10-09T09:51:53.268586200Z",
     "start_time": "2024-10-09T09:51:39.939659Z"
    }
   },
   "id": "c32ddeb918f2b3de"
  },
  {
   "cell_type": "code",
   "execution_count": null,
   "outputs": [],
   "source": [
    "def convert_file(input_nrrd):\n",
    "    img, header = read(input_nrrd.__str__())\n",
    "    tif_path = Path(output_tif_folder) / (input_nrrd.name[:-4] + 'tif')\n",
    "    imwrite(tif_path.__str__(), img, compression=1)\n",
    "    return 1"
   ],
   "metadata": {
    "collapsed": false,
    "ExecuteTime": {
     "start_time": "2024-10-09T09:29:36.457317900Z"
    }
   },
   "id": "2542c135b9871e57"
  },
  {
   "cell_type": "code",
   "execution_count": null,
   "outputs": [],
   "source": [
    "# Testing deconvolutions for real folder (this one takes a long time)\n",
    "from nrrd import read\n",
    "from tifffile import imwrite\n",
    "from pathlib import Path\n",
    "from os import system \n",
    "from multiprocessing import Pool\n",
    "\n",
    "\n",
    "# running fnt_cube_processor with 8 threads\n",
    "input_folder = r\"E:\\TMP\\Aidan\\z00003200\"\n",
    "output_nrrd_folder = r\"E:\\TMP\\Aidan\\z00003200_deconv_nrrd\"\n",
    "output_tif_folder = r\"E:\\TMP\\Aidan\\z00003200_tif\"\n",
    "num_threads = 8\n",
    "\n",
    "system(fr\"python .\\fnt_cube_processor.py -i {input_folder} -o {output_nrrd_folder} -n {num_threads} -d\")\n",
    "\n",
    "# convert to tif files\n",
    "nrrd_paths = [f for f in Path(output_nrrd_folder).iterdir() if f.is_file()]\n",
    "\n",
    "# convert single file to tif\n",
    "def convert_file(input_nrrd: Path):\n",
    "    img, header = read(input_nrrd.__str__())\n",
    "    tif_path = Path(output_tif_folder) / (input_nrrd.name[:-4] + 'tif')\n",
    "    imwrite(tif_path.__str__(), img, compression=1)\n",
    "    return 1\n",
    "\n",
    "for path in nrrd_paths:\n",
    "    convert_file(path)\n",
    "\n",
    "print(\"All nrrd -> tif conversions completed successfully\")\n"
   ],
   "metadata": {
    "collapsed": false,
    "ExecuteTime": {
     "end_time": "2024-10-09T09:29:36.468316500Z",
     "start_time": "2024-10-09T09:29:36.461316700Z"
    }
   },
   "id": "2b300b5d7e7718f8"
  },
  {
   "cell_type": "code",
   "execution_count": null,
   "outputs": [],
   "source": [
    "import nrrd\n",
    "from pathlib import Path\n",
    "from numpy import pad\n",
    "from pycudadecon import decon, make_otf\n",
    "\n",
    "def process_cube(\n",
    "        input_file: Path,   # path to nrrd file\n",
    "        temp_folder: Path,  # path to a temporary folder (folder must exist before function runs)\n",
    "        psf: str,           # string representing path to psf file\n",
    "        pad_amount: int,    # amount to pad to each side of image before applying deconvolution\n",
    "        n_iters: int = 9,\n",
    "        dz_data: float = 0.7,\n",
    "        dx_data: float = 0.7,\n",
    "        dz_psf: float = 1.8,\n",
    "        dxy_psf: float = 0.2,\n",
    "        background: int = 0,\n",
    "        wavelength_em: int = 525,\n",
    "        na: float = 0.4,\n",
    "        nimm: float = 1.42\n",
    "): \n",
    "    # read input file\n",
    "    img, header = nrrd.read(input_file.__str__())\n",
    "\n",
    "    # generate otf file from psf file\n",
    "    otf_file = make_otf(\n",
    "            psf,\n",
    "            outpath=(temp_folder / 'otf.tif').__str__(),\n",
    "            dzpsf=dz_psf,\n",
    "            dxpsf=dxy_psf,\n",
    "            wavelength=wavelength_em,\n",
    "            na=na,\n",
    "            nimm=nimm,\n",
    "            fixorigin=0,\n",
    "        )\n",
    "\n",
    "    print(\"Image shape before pad: \", img.shape)\n",
    "\n",
    "    # pad to ensure edges of image are deconvolved\n",
    "    img = pad(img, pad_amount, 'reflect')\n",
    "    \n",
    "    print(\"Image shape (after pad), before deconvolution: \", img.shape)\n",
    "\n",
    "    # run deconvolution    \n",
    "    img = decon(\n",
    "        img,\n",
    "        otf_file,\n",
    "        fpattern=None,\n",
    "        n_iters=n_iters,\n",
    "        dzdata=dz_data,\n",
    "        dxdata=dx_data,\n",
    "        dzpsf=dz_psf,\n",
    "        dxpsf=dxy_psf,\n",
    "        background=background,\n",
    "        wavelength=wavelength_em,\n",
    "        na=na,\n",
    "        nimm=nimm\n",
    "    )\n",
    "    print(\"Image shape after deconvolution: \", img.shape)\n",
    "    \n",
    "\n",
    "if __name__ == '__main__':\n",
    "    # change pad_amount to different integers.  sometimes the deconvolution causes image to change size.\n",
    "    # .nrrd file along with psf.tif are provided as sample data.\n",
    "\n",
    "    process_cube(\n",
    "        Path(\"C:/path/to/file/y00006400.x00019200.nrrd\"),\n",
    "        Path(\"C:/path/to/temp/folder\"),\n",
    "        \"C:/path/to/psf.tif\",\n",
    "        pad_amount=1\n",
    "    )"
   ],
   "metadata": {
    "collapsed": false,
    "ExecuteTime": {
     "start_time": "2024-10-09T09:29:36.463316300Z"
    }
   },
   "id": "d11228ec6edce88a"
  },
  {
   "cell_type": "code",
   "execution_count": null,
   "outputs": [],
   "source": [],
   "metadata": {
    "collapsed": false,
    "ExecuteTime": {
     "start_time": "2024-10-09T09:29:36.465316800Z"
    }
   },
   "id": "ebbb128848d2965e"
  }
 ],
 "metadata": {
  "kernelspec": {
   "display_name": "Python 3",
   "language": "python",
   "name": "python3"
  },
  "language_info": {
   "codemirror_mode": {
    "name": "ipython",
    "version": 2
   },
   "file_extension": ".py",
   "mimetype": "text/x-python",
   "name": "python",
   "nbconvert_exporter": "python",
   "pygments_lexer": "ipython2",
   "version": "2.7.6"
  }
 },
 "nbformat": 4,
 "nbformat_minor": 5
}
